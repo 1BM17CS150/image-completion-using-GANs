{
 "cells": [
  {
   "cell_type": "code",
   "execution_count": 2,
   "metadata": {
    "collapsed": false
   },
   "outputs": [
    {
     "name": "stderr",
     "output_type": "stream",
     "text": [
      "/Users/aashimaarora/anaconda/envs/eb_virt/lib/python2.7/site-packages/matplotlib/font_manager.py:273: UserWarning: Matplotlib is building the font cache using fc-list. This may take a moment.\n",
      "  warnings.warn('Matplotlib is building the font cache using fc-list. This may take a moment.')\n"
     ]
    }
   ],
   "source": [
    "import subprocess\n",
    "import pandas as pd\n",
    "import numpy as np\n",
    "import matplotlib.pyplot as plt\n",
    "%matplotlib inline\n"
   ]
  },
  {
   "cell_type": "code",
   "execution_count": 3,
   "metadata": {
    "collapsed": false
   },
   "outputs": [
    {
     "data": {
      "text/plain": [
       "0"
      ]
     },
     "execution_count": 3,
     "metadata": {},
     "output_type": "execute_result"
    }
   ],
   "source": [
    "subprocess.call(\"./clean.sh\", shell=True)\n",
    "\n"
   ]
  },
  {
   "cell_type": "code",
   "execution_count": null,
   "metadata": {
    "collapsed": true
   },
   "outputs": [],
   "source": []
  },
  {
   "cell_type": "code",
   "execution_count": 4,
   "metadata": {
    "collapsed": false
   },
   "outputs": [],
   "source": [
    "with open('loss.csv', 'r') as loss_file:\n",
    "    df = pd.read_csv(loss_file,header=None)"
   ]
  },
  {
   "cell_type": "code",
   "execution_count": 5,
   "metadata": {
    "collapsed": false
   },
   "outputs": [
    {
     "data": {
      "text/html": [
       "<div>\n",
       "<table border=\"1\" class=\"dataframe\">\n",
       "  <thead>\n",
       "    <tr style=\"text-align: right;\">\n",
       "      <th></th>\n",
       "      <th>0</th>\n",
       "      <th>1</th>\n",
       "      <th>2</th>\n",
       "      <th>3</th>\n",
       "      <th>4</th>\n",
       "      <th>5</th>\n",
       "      <th>6</th>\n",
       "      <th>7</th>\n",
       "      <th>8</th>\n",
       "      <th>9</th>\n",
       "      <th>...</th>\n",
       "      <th>39991</th>\n",
       "      <th>39992</th>\n",
       "      <th>39993</th>\n",
       "      <th>39994</th>\n",
       "      <th>39995</th>\n",
       "      <th>39996</th>\n",
       "      <th>39997</th>\n",
       "      <th>39998</th>\n",
       "      <th>39999</th>\n",
       "      <th>40000</th>\n",
       "    </tr>\n",
       "  </thead>\n",
       "  <tbody>\n",
       "    <tr>\n",
       "      <th>gen_loss</th>\n",
       "      <td>0.181317</td>\n",
       "      <td>2.423311</td>\n",
       "      <td>0.322244</td>\n",
       "      <td>3.304590</td>\n",
       "      <td>0.166743</td>\n",
       "      <td>6.007262</td>\n",
       "      <td>0.115704</td>\n",
       "      <td>9.393687</td>\n",
       "      <td>2.402746</td>\n",
       "      <td>0.655033</td>\n",
       "      <td>...</td>\n",
       "      <td>5.514368</td>\n",
       "      <td>5.687131</td>\n",
       "      <td>5.084729</td>\n",
       "      <td>5.760257</td>\n",
       "      <td>5.289283</td>\n",
       "      <td>5.478115</td>\n",
       "      <td>4.833206</td>\n",
       "      <td>5.58149</td>\n",
       "      <td>4.925815</td>\n",
       "      <td>4.566696</td>\n",
       "    </tr>\n",
       "    <tr>\n",
       "      <th>disc_loss</th>\n",
       "      <td>2.891928</td>\n",
       "      <td>0.879894</td>\n",
       "      <td>2.511913</td>\n",
       "      <td>0.670181</td>\n",
       "      <td>2.984232</td>\n",
       "      <td>0.724126</td>\n",
       "      <td>3.716810</td>\n",
       "      <td>0.735308</td>\n",
       "      <td>0.740770</td>\n",
       "      <td>1.468914</td>\n",
       "      <td>...</td>\n",
       "      <td>0.378917</td>\n",
       "      <td>0.366043</td>\n",
       "      <td>0.386407</td>\n",
       "      <td>0.351443</td>\n",
       "      <td>0.377127</td>\n",
       "      <td>0.375865</td>\n",
       "      <td>0.359502</td>\n",
       "      <td>0.39386</td>\n",
       "      <td>0.411548</td>\n",
       "      <td>0.400657</td>\n",
       "    </tr>\n",
       "  </tbody>\n",
       "</table>\n",
       "<p>2 rows × 40001 columns</p>\n",
       "</div>"
      ],
      "text/plain": [
       "              0         1         2         3         4         5      \\\n",
       "gen_loss   0.181317  2.423311  0.322244  3.304590  0.166743  6.007262   \n",
       "disc_loss  2.891928  0.879894  2.511913  0.670181  2.984232  0.724126   \n",
       "\n",
       "              6         7         8         9        ...        39991  \\\n",
       "gen_loss   0.115704  9.393687  2.402746  0.655033    ...     5.514368   \n",
       "disc_loss  3.716810  0.735308  0.740770  1.468914    ...     0.378917   \n",
       "\n",
       "              39992     39993     39994     39995     39996     39997  \\\n",
       "gen_loss   5.687131  5.084729  5.760257  5.289283  5.478115  4.833206   \n",
       "disc_loss  0.366043  0.386407  0.351443  0.377127  0.375865  0.359502   \n",
       "\n",
       "             39998     39999     40000  \n",
       "gen_loss   5.58149  4.925815  4.566696  \n",
       "disc_loss  0.39386  0.411548  0.400657  \n",
       "\n",
       "[2 rows x 40001 columns]"
      ]
     },
     "execution_count": 5,
     "metadata": {},
     "output_type": "execute_result"
    }
   ],
   "source": [
    "df = df.rename(index={0: 'gen_loss'})\n",
    "df = df.rename(index={1: 'disc_loss'})\n",
    "df"
   ]
  },
  {
   "cell_type": "code",
   "execution_count": 20,
   "metadata": {
    "collapsed": false
   },
   "outputs": [],
   "source": [
    "gen_loss = df.iloc[0]\n",
    "disc_loss = df.iloc[1]"
   ]
  },
  {
   "cell_type": "code",
   "execution_count": 37,
   "metadata": {
    "collapsed": false
   },
   "outputs": [
    {
     "data": {
      "text/plain": [
       "<matplotlib.axes._subplots.AxesSubplot at 0x1163185d0>"
      ]
     },
     "execution_count": 37,
     "metadata": {},
     "output_type": "execute_result"
    },
    {
     "data": {
      "image/png": "[encoded data removed]",
      "text/plain": [
       "<matplotlib.figure.Figure at 0x112cb3c50>"
      ]
     },
     "metadata": {},
     "output_type": "display_data"
    }
   ],
   "source": [
    "#ax = df.T.plot.line()\n",
    "#new_ticks = range(0,14,4) \n",
    "#ax.set_yticks(new_ticks)\n",
    "#ax.set_yticklabels(new_ticks)\n",
    "#new_ticks = range(0,len(df.columns),1000) \n",
    "#ax.set_xticks(new_ticks)\n",
    "#ax.figure.tight_layout()\n",
    "df.T.plot.line()\n"
   ]
  },
  {
   "cell_type": "code",
   "execution_count": null,
   "metadata": {
    "collapsed": true
   },
   "outputs": [],
   "source": []
  }
 ],
 "metadata": {
  "anaconda-cloud": {},
  "kernelspec": {
   "display_name": "Python [eb_virt]",
   "language": "python",
   "name": "Python [eb_virt]"
  },
  "language_info": {
   "codemirror_mode": {
    "name": "ipython",
    "version": 2
   },
   "file_extension": ".py",
   "mimetype": "text/x-python",
   "name": "python",
   "nbconvert_exporter": "python",
   "pygments_lexer": "ipython2",
   "version": "2.7.12"
  }
 },
 "nbformat": 4,
 "nbformat_minor": 0
}
